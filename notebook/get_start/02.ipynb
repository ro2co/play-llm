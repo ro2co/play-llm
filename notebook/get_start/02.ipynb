{
 "cells": [
  {
   "cell_type": "code",
   "execution_count": 1,
   "metadata": {},
   "outputs": [],
   "source": [
    "from llama_index.core import ListIndex, Document\n",
    "document = Document(text=\"这是第一篇文档\")\n",
    "# 创建 List Index\n",
    "index = ListIndex([document])"
   ]
  },
  {
   "cell_type": "code",
   "execution_count": 14,
   "metadata": {},
   "outputs": [
    {
     "name": "stdout",
     "output_type": "stream",
     "text": [
      "[TextNode(id_='e72024dc-7dbd-4332-8d69-53f7cef15b8c', embedding=None, metadata={}, excluded_embed_metadata_keys=[], excluded_llm_metadata_keys=[], relationships={<NodeRelationship.SOURCE: '1'>: RelatedNodeInfo(node_id='b4141385-119c-4e97-9163-6dea59004b34', node_type=<ObjectType.DOCUMENT: '4'>, metadata={}, hash='7debe8d278fe6c55c45f979269ab268102d75f8d48644d244cd0050dae0846ac')}, text='hello', mimetype='text/plain', start_char_idx=0, end_char_idx=5, text_template='{metadata_str}\\n\\n{content}', metadata_template='{key}: {value}', metadata_seperator='\\n'), TextNode(id_='3cc07ed5-a0a6-493f-8539-a546222c313c', embedding=None, metadata={}, excluded_embed_metadata_keys=[], excluded_llm_metadata_keys=[], relationships={<NodeRelationship.SOURCE: '1'>: RelatedNodeInfo(node_id='5fa21a47-d2ff-4068-9fa8-29826e42e5aa', node_type=<ObjectType.DOCUMENT: '4'>, metadata={}, hash='12d52a924ac6bc76ec4101c5d1f55bb5b5365d5f4c524a21d6175a4b049a1962')}, text='world', mimetype='text/plain', start_char_idx=0, end_char_idx=5, text_template='{metadata_str}\\n\\n{content}', metadata_template='{key}: {value}', metadata_seperator='\\n')]\n"
     ]
    }
   ],
   "source": [
    "from llama_index.core import Document\n",
    "from llama_index.core.node_parser import SimpleNodeParser\n",
    "\n",
    "text_list = [\"hello\", \"world\"]\n",
    "documents = [Document(text=t) for t in text_list]\n",
    "\n",
    "parser = SimpleNodeParser.from_defaults()\n",
    "nodes = parser.get_nodes_from_documents(documents)\n",
    "print(nodes)"
   ]
  },
  {
   "cell_type": "code",
   "execution_count": 15,
   "metadata": {},
   "outputs": [
    {
     "name": "stdout",
     "output_type": "stream",
     "text": [
      "e72024dc-7dbd-4332-8d69-53f7cef15b8c\n",
      "3cc07ed5-a0a6-493f-8539-a546222c313c\n"
     ]
    }
   ],
   "source": [
    "for node in nodes:\n",
    "    print(node.id_) "
   ]
  }
 ],
 "metadata": {
  "kernelspec": {
   "display_name": "notebook-viLLkdjz-py3.12",
   "language": "python",
   "name": "python3"
  },
  "language_info": {
   "codemirror_mode": {
    "name": "ipython",
    "version": 3
   },
   "file_extension": ".py",
   "mimetype": "text/x-python",
   "name": "python",
   "nbconvert_exporter": "python",
   "pygments_lexer": "ipython3",
   "version": "3.12.0"
  }
 },
 "nbformat": 4,
 "nbformat_minor": 2
}
