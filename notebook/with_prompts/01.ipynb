{
 "cells": [
  {
   "cell_type": "code",
   "execution_count": 2,
   "metadata": {},
   "outputs": [],
   "source": [
    "import os\n",
    "from dotenv import load_dotenv\n",
    "\n",
    "load_dotenv()  \n",
    "OLLAMA_BASE_URL = os.getenv('OLLAMA_BASE_URL')\n",
    "OPEN_ROUTER_KEY = os.getenv(\"OPEN_ROUTER_KEY\")"
   ]
  },
  {
   "cell_type": "code",
   "execution_count": 3,
   "metadata": {},
   "outputs": [
    {
     "name": "stdout",
     "output_type": "stream",
     "text": [
      "http://127.0.0.1:11434\n"
     ]
    }
   ],
   "source": [
    "print(OLLAMA_BASE_URL)"
   ]
  },
  {
   "cell_type": "code",
   "execution_count": 4,
   "metadata": {},
   "outputs": [
    {
     "name": "stdout",
     "output_type": "stream",
     "text": [
      "A man walks into a library and asks the librarian, \"Do you have any books on Pavlov's dogs and Schrödinger's cat?\"\n",
      "\n",
      "The librarian replies, \"It rings a bell, but I'm not sure if it's here or there.\""
     ]
    }
   ],
   "source": [
    "from llama_index.llms.ollama import Ollama\n",
    "llm = Ollama(model=\"llama3.1:8b\",base_url=OLLAMA_BASE_URL, request_timeout=120.0)\n",
    "\n",
    "resp = llm.stream_complete(\"Tell me a joke\")\n",
    "for r in resp:\n",
    "    print(r.delta, end=\"\")"
   ]
  },
  {
   "cell_type": "code",
   "execution_count": 7,
   "metadata": {},
   "outputs": [
    {
     "name": "stdout",
     "output_type": "stream",
     "text": [
      "  % Total    % Received % Xferd  Average Speed   Time    Time     Time  Current\n",
      "                                 Dload  Upload   Total   Spent    Left  Speed\n",
      "100 75042  100 75042    0     0    98k      0 --:--:-- --:--:-- --:--:--   98k\n"
     ]
    }
   ],
   "source": [
    "!curl -o 'data/paul_graham_essay.txt' 'https://raw.githubusercontent.com/run-llama/llama_index/main/docs/docs/examples/data/paul_graham/paul_graham_essay.txt'"
   ]
  },
  {
   "cell_type": "code",
   "execution_count": null,
   "metadata": {},
   "outputs": [],
   "source": [
    "from llama_index.core.memory import ChatMemoryBuffer\n",
    "\n",
    "chat_engine = index.as_chat_engine(\n",
    "    chat_mode=\"context\",\n",
    "    memory=memory,\n",
    "    system_prompt=(\n",
    "        \"You are a chatbot, able to have normal interactions, as well as talk\"\n",
    "        \" about an essay discussing Paul Grahams life.\"\n",
    "    ),\n",
    ")"
   ]
  },
  {
   "cell_type": "code",
   "execution_count": 23,
   "metadata": {},
   "outputs": [
    {
     "ename": "ImportError",
     "evalue": "cannot import name 'agent' from 'llama_index.agent' (unknown location)",
     "output_type": "error",
     "traceback": [
      "\u001b[0;31m---------------------------------------------------------------------------\u001b[0m",
      "\u001b[0;31mImportError\u001b[0m                               Traceback (most recent call last)",
      "Cell \u001b[0;32mIn[23], line 1\u001b[0m\n\u001b[0;32m----> 1\u001b[0m \u001b[38;5;28;01mfrom\u001b[39;00m  \u001b[38;5;21;01mllama_index\u001b[39;00m\u001b[38;5;21;01m.\u001b[39;00m\u001b[38;5;21;01magent\u001b[39;00m \u001b[38;5;28;01mimport\u001b[39;00m agent\n\u001b[1;32m      2\u001b[0m \u001b[38;5;28mdir\u001b[39m(agent)\n",
      "\u001b[0;31mImportError\u001b[0m: cannot import name 'agent' from 'llama_index.agent' (unknown location)"
     ]
    }
   ],
   "source": [
    "import llama_index.core.agent\n",
    "dir(llama_index.core.agent)"
   ]
  },
  {
   "cell_type": "code",
   "execution_count": 12,
   "metadata": {},
   "outputs": [
    {
     "ename": "ImportError",
     "evalue": "cannot import name 'Agent' from 'llama_index.core' (/Users/v1wsfuhuan/Library/Caches/pypoetry/virtualenvs/notebook-viLLkdjz-py3.12/lib/python3.12/site-packages/llama_index/core/__init__.py)",
     "output_type": "error",
     "traceback": [
      "\u001b[0;31m---------------------------------------------------------------------------\u001b[0m",
      "\u001b[0;31mImportError\u001b[0m                               Traceback (most recent call last)",
      "Cell \u001b[0;32mIn[12], line 1\u001b[0m\n\u001b[0;32m----> 1\u001b[0m \u001b[38;5;28;01mfrom\u001b[39;00m \u001b[38;5;21;01mllama_index\u001b[39;00m\u001b[38;5;21;01m.\u001b[39;00m\u001b[38;5;21;01mcore\u001b[39;00m \u001b[38;5;28;01mimport\u001b[39;00m ServiceContext, Agent\n\u001b[1;32m      2\u001b[0m \u001b[38;5;28;01mfrom\u001b[39;00m \u001b[38;5;21;01mllama_index\u001b[39;00m\u001b[38;5;21;01m.\u001b[39;00m\u001b[38;5;21;01mcore\u001b[39;00m\u001b[38;5;21;01m.\u001b[39;00m\u001b[38;5;21;01mmemory\u001b[39;00m \u001b[38;5;28;01mimport\u001b[39;00m ChatMemoryBuffer\n\u001b[1;32m      3\u001b[0m \u001b[38;5;28;01mfrom\u001b[39;00m \u001b[38;5;21;01mllama_index\u001b[39;00m\u001b[38;5;21;01m.\u001b[39;00m\u001b[38;5;21;01mllms\u001b[39;00m\u001b[38;5;21;01m.\u001b[39;00m\u001b[38;5;21;01mollama\u001b[39;00m \u001b[38;5;28;01mimport\u001b[39;00m Ollama\n",
      "\u001b[0;31mImportError\u001b[0m: cannot import name 'Agent' from 'llama_index.core' (/Users/v1wsfuhuan/Library/Caches/pypoetry/virtualenvs/notebook-viLLkdjz-py3.12/lib/python3.12/site-packages/llama_index/core/__init__.py)"
     ]
    }
   ],
   "source": [
    "\n",
    "from llama_index import ServiceContext\n",
    "from llama_index.core.memory import ChatMemoryBuffer\n",
    "from llama_index.llms.ollama import Ollama\n",
    "\n",
    "# 初始化 Ollama 模型\n",
    "llm = Ollama(model=\"llama3.1:8b\",base_url=OLLAMA_BASE_URL, request_timeout=120.0)\n",
    "\n",
    "# 创建一个服务上下文，用于提供给代理\n",
    "service_context = ServiceContext(llm=llm)\n",
    "\n",
    "# 创建一个内存缓冲，用于对话上下文\n",
    "memory = ChatMemoryBuffer()\n",
    "\n",
    "# 使用 Ollama 模型和内存创建 Agent\n",
    "agent = Agent(service_context=service_context, memory=memory)\n",
    "\n",
    "# 发起简单的对话\n",
    "response = agent.chat(\"Hello! Can you help me with a math problem?\")\n",
    "print(\"Response:\", response)\n",
    "\n",
    "# 继续对话，参考上下文\n",
    "#follow_up_response = agent.chat(\"What is 20 + (2 * 4)? Calculate step by step.\")\n",
    "# print(\"Follow-up Response:\", follow_up_response)\n"
   ]
  }
 ],
 "metadata": {
  "kernelspec": {
   "display_name": "notebook-viLLkdjz-py3.12",
   "language": "python",
   "name": "python3"
  },
  "language_info": {
   "codemirror_mode": {
    "name": "ipython",
    "version": 3
   },
   "file_extension": ".py",
   "mimetype": "text/x-python",
   "name": "python",
   "nbconvert_exporter": "python",
   "pygments_lexer": "ipython3",
   "version": "3.12.0"
  }
 },
 "nbformat": 4,
 "nbformat_minor": 2
}
