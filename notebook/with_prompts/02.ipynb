{
 "cells": [
  {
   "cell_type": "code",
   "execution_count": 1,
   "metadata": {},
   "outputs": [],
   "source": [
    "import os\n",
    "from dotenv import load_dotenv\n",
    "\n",
    "load_dotenv()  \n",
    "OLLAMA_BASE_URL = os.getenv('OLLAMA_BASE_URL')\n",
    "OPEN_ROUTER_KEY = os.getenv(\"OPEN_ROUTER_KEY\")"
   ]
  },
  {
   "cell_type": "code",
   "execution_count": 3,
   "metadata": {},
   "outputs": [
    {
     "name": "stdout",
     "output_type": "stream",
     "text": [
      "In the sky, a curious sight\n",
      "Fell from above, without a fight\n",
      "Cats and dogs, in a mystic rain\n",
      "Purring felines, and canines that whine\n",
      "\n",
      "Their fur was wet, their eyes were bright\n",
      "They landed softly, with a gentle might\n",
      "On the green grass, they began to play\n",
      "Chasing each other, on this rainy day\n",
      "\n",
      "The cats were tabbies, with stripes of grey\n",
      "The dogs were mixes, in a happy sway\n",
      "They romped and tumbled, without a care\n",
      "As the rain continued, to fall from the air\n",
      "\n",
      "Their paws left prints, in the wet ground below\n",
      "As they frolicked together, in a joyful show\n",
      "No one was afraid, as they played with glee\n",
      "In this strange and wonderful, rainy spree."
     ]
    }
   ],
   "source": [
    "from llama_index.llms.ollama import Ollama\n",
    "from llama_index.core.chat_engine import SimpleChatEngine\n",
    "\n",
    "llm = Ollama(model=\"llama3.1:8b\",base_url=OLLAMA_BASE_URL, request_timeout=120.0)\n",
    "chat_engine = SimpleChatEngine.from_defaults(llm=llm)\n",
    "\n",
    "response = chat_engine.stream_chat(\n",
    "    \"Write me a poem about raining cats and dogs.\"\n",
    ")\n",
    "full_response = \"\"\n",
    "for token in response.response_gen:\n",
    "    print(token, end=\"\")\n",
    "    full_response += token\n",
    "\n",
    "with open('response.txt', 'w') as file:\n",
    "    file.write(full_response)"
   ]
  }
 ],
 "metadata": {
  "kernelspec": {
   "display_name": "notebook-viLLkdjz-py3.12",
   "language": "python",
   "name": "python3"
  },
  "language_info": {
   "codemirror_mode": {
    "name": "ipython",
    "version": 3
   },
   "file_extension": ".py",
   "mimetype": "text/x-python",
   "name": "python",
   "nbconvert_exporter": "python",
   "pygments_lexer": "ipython3",
   "version": "3.12.0"
  }
 },
 "nbformat": 4,
 "nbformat_minor": 2
}
